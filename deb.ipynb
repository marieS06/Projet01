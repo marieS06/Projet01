{
 "cells": [
  {
   "cell_type": "code",
   "execution_count": 1,
   "metadata": {},
   "outputs": [],
   "source": [
    "import pandas as pd"
   ]
  },
  {
   "cell_type": "code",
   "execution_count": 2,
   "metadata": {},
   "outputs": [],
   "source": [
    "proj = pd.read_csv('CSV_4.csv')"
   ]
  },
  {
   "cell_type": "code",
   "execution_count": 3,
   "metadata": {},
   "outputs": [
    {
     "data": {
      "text/html": [
       "<div>\n",
       "<style scoped>\n",
       "    .dataframe tbody tr th:only-of-type {\n",
       "        vertical-align: middle;\n",
       "    }\n",
       "\n",
       "    .dataframe tbody tr th {\n",
       "        vertical-align: top;\n",
       "    }\n",
       "\n",
       "    .dataframe thead th {\n",
       "        text-align: right;\n",
       "    }\n",
       "</style>\n",
       "<table border=\"1\" class=\"dataframe\">\n",
       "  <thead>\n",
       "    <tr style=\"text-align: right;\">\n",
       "      <th></th>\n",
       "      <th>ID</th>\n",
       "      <th>Candidate</th>\n",
       "      <th>Gender</th>\n",
       "      <th>credit card type</th>\n",
       "      <th>passion</th>\n",
       "      <th>Educational institution</th>\n",
       "    </tr>\n",
       "  </thead>\n",
       "  <tbody>\n",
       "    <tr>\n",
       "      <th>0</th>\n",
       "      <td>1</td>\n",
       "      <td>Enoch Nayler</td>\n",
       "      <td>M</td>\n",
       "      <td>Bank of America</td>\n",
       "      <td>Hard Rock</td>\n",
       "      <td>Junior college</td>\n",
       "    </tr>\n",
       "    <tr>\n",
       "      <th>1</th>\n",
       "      <td>2</td>\n",
       "      <td>Ethan Terry</td>\n",
       "      <td>M</td>\n",
       "      <td>American Express</td>\n",
       "      <td>Blues</td>\n",
       "      <td>University-preparatory school</td>\n",
       "    </tr>\n",
       "    <tr>\n",
       "      <th>2</th>\n",
       "      <td>3</td>\n",
       "      <td>Ryan Newman</td>\n",
       "      <td>M</td>\n",
       "      <td>Maestro</td>\n",
       "      <td>Blues</td>\n",
       "      <td>University-preparatory school</td>\n",
       "    </tr>\n",
       "    <tr>\n",
       "      <th>3</th>\n",
       "      <td>4</td>\n",
       "      <td>Noemi Bradley</td>\n",
       "      <td>F</td>\n",
       "      <td>UnionPay</td>\n",
       "      <td>Dubstep</td>\n",
       "      <td>University-preparatory school</td>\n",
       "    </tr>\n",
       "    <tr>\n",
       "      <th>4</th>\n",
       "      <td>5</td>\n",
       "      <td>Rita Doherty</td>\n",
       "      <td>F</td>\n",
       "      <td>Capital One</td>\n",
       "      <td>Hard Rock</td>\n",
       "      <td>Gymnasium</td>\n",
       "    </tr>\n",
       "  </tbody>\n",
       "</table>\n",
       "</div>"
      ],
      "text/plain": [
       "   ID      Candidate Gender  credit card type    passion  \\\n",
       "0   1   Enoch Nayler      M   Bank of America  Hard Rock   \n",
       "1   2    Ethan Terry      M  American Express      Blues   \n",
       "2   3    Ryan Newman      M           Maestro      Blues   \n",
       "3   4  Noemi Bradley      F          UnionPay    Dubstep   \n",
       "4   5   Rita Doherty      F       Capital One  Hard Rock   \n",
       "\n",
       "         Educational institution  \n",
       "0                 Junior college  \n",
       "1  University-preparatory school  \n",
       "2  University-preparatory school  \n",
       "3  University-preparatory school  \n",
       "4                      Gymnasium  "
      ]
     },
     "execution_count": 3,
     "metadata": {},
     "output_type": "execute_result"
    }
   ],
   "source": [
    "proj.head()"
   ]
  }
 ],
 "metadata": {
  "interpreter": {
   "hash": "cd3a76614d9cd0c5a02efb613b3c17134a67e928a76a5b96a2bdf0aecb9b20c5"
  },
  "kernelspec": {
   "display_name": "Python 3.9.7 64-bit",
   "language": "python",
   "name": "python3"
  },
  "language_info": {
   "codemirror_mode": {
    "name": "ipython",
    "version": 3
   },
   "file_extension": ".py",
   "mimetype": "text/x-python",
   "name": "python",
   "nbconvert_exporter": "python",
   "pygments_lexer": "ipython3",
   "version": "3.9.7"
  },
  "orig_nbformat": 4
 },
 "nbformat": 4,
 "nbformat_minor": 2
}
